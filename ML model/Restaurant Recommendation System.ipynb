{
 "cells": [
  {
   "cell_type": "markdown",
   "id": "0883a382-e45e-4d61-8f4e-e91e6d14ebdc",
   "metadata": {},
   "source": [
    "## Restaurant Recomendation System"
   ]
  },
  {
   "cell_type": "markdown",
   "id": "49295ea0-8af7-42dd-910f-333fc541e603",
   "metadata": {},
   "source": [
    "### Importing Python Libraries"
   ]
  },
  {
   "cell_type": "code",
   "execution_count": 1,
   "id": "addb5ff5-d671-451e-904b-5336a4da7163",
   "metadata": {},
   "outputs": [],
   "source": [
    "import pandas as pd\n",
    "import numpy as np\n",
    "from sklearn.preprocessing import OneHotEncoder\n",
    "from sklearn.metrics.pairwise import cosine_similarity"
   ]
  },
  {
   "cell_type": "markdown",
   "id": "a461c9ce-365a-4d29-a41f-df01b00db21f",
   "metadata": {},
   "source": [
    "### Importing dataset"
   ]
  },
  {
   "cell_type": "code",
   "execution_count": 2,
   "id": "18c6c995-ddcd-4643-88e2-59bfc48ac939",
   "metadata": {},
   "outputs": [
    {
     "data": {
      "text/plain": [
       "Index(['Restaurant ID', 'Restaurant Name', 'Country Code', 'City', 'Address',\n",
       "       'Locality', 'Locality Verbose', 'Longitude', 'Latitude', 'Cuisines',\n",
       "       'Average Cost for two', 'Currency', 'Has Table booking',\n",
       "       'Has Online delivery', 'Is delivering now', 'Switch to order menu',\n",
       "       'Price range', 'Aggregate rating', 'Rating color', 'Rating text',\n",
       "       'Votes'],\n",
       "      dtype='object')"
      ]
     },
     "execution_count": 2,
     "metadata": {},
     "output_type": "execute_result"
    }
   ],
   "source": [
    "df = pd.read_csv('Dataset .csv')\n",
    "df.head()\n",
    "df.columns"
   ]
  },
  {
   "cell_type": "markdown",
   "id": "7199ce37-fc50-4b9e-aaf7-71befe6167af",
   "metadata": {},
   "source": [
    "### Handling the missing values in Dataset"
   ]
  },
  {
   "cell_type": "code",
   "execution_count": 3,
   "id": "610dcc02-23dd-4ffb-b119-15447d8376ea",
   "metadata": {},
   "outputs": [
    {
     "name": "stderr",
     "output_type": "stream",
     "text": [
      "C:\\Users\\Survesh\\AppData\\Local\\Temp\\ipykernel_12752\\2987202686.py:1: FutureWarning: DataFrame.fillna with 'method' is deprecated and will raise in a future version. Use obj.ffill() or obj.bfill() instead.\n",
      "  df.fillna(method ='ffill',inplace = True)\n"
     ]
    }
   ],
   "source": [
    "df.fillna(method ='ffill',inplace = True)"
   ]
  },
  {
   "cell_type": "markdown",
   "id": "87d89885-c6f6-472c-b39c-497eb12ab598",
   "metadata": {},
   "source": [
    "### Select relevant features"
   ]
  },
  {
   "cell_type": "code",
   "execution_count": 16,
   "id": "16f8cf6e-e41f-436b-a13b-816de2caeb0c",
   "metadata": {},
   "outputs": [
    {
     "data": {
      "text/html": [
       "<div>\n",
       "<style scoped>\n",
       "    .dataframe tbody tr th:only-of-type {\n",
       "        vertical-align: middle;\n",
       "    }\n",
       "\n",
       "    .dataframe tbody tr th {\n",
       "        vertical-align: top;\n",
       "    }\n",
       "\n",
       "    .dataframe thead th {\n",
       "        text-align: right;\n",
       "    }\n",
       "</style>\n",
       "<table border=\"1\" class=\"dataframe\">\n",
       "  <thead>\n",
       "    <tr style=\"text-align: right;\">\n",
       "      <th></th>\n",
       "      <th>Restaurant Name</th>\n",
       "      <th>City</th>\n",
       "      <th>Locality</th>\n",
       "      <th>Cuisines</th>\n",
       "      <th>Average Cost for two</th>\n",
       "      <th>Has Table booking</th>\n",
       "      <th>Has Online delivery</th>\n",
       "      <th>Price range</th>\n",
       "      <th>Aggregate rating</th>\n",
       "      <th>Votes</th>\n",
       "    </tr>\n",
       "  </thead>\n",
       "  <tbody>\n",
       "    <tr>\n",
       "      <th>0</th>\n",
       "      <td>Le Petit Souffle</td>\n",
       "      <td>Makati City</td>\n",
       "      <td>Century City Mall, Poblacion, Makati City</td>\n",
       "      <td>French, Japanese, Desserts</td>\n",
       "      <td>1100</td>\n",
       "      <td>Yes</td>\n",
       "      <td>No</td>\n",
       "      <td>3</td>\n",
       "      <td>4.8</td>\n",
       "      <td>314</td>\n",
       "    </tr>\n",
       "    <tr>\n",
       "      <th>1</th>\n",
       "      <td>Izakaya Kikufuji</td>\n",
       "      <td>Makati City</td>\n",
       "      <td>Little Tokyo, Legaspi Village, Makati City</td>\n",
       "      <td>Japanese</td>\n",
       "      <td>1200</td>\n",
       "      <td>Yes</td>\n",
       "      <td>No</td>\n",
       "      <td>3</td>\n",
       "      <td>4.5</td>\n",
       "      <td>591</td>\n",
       "    </tr>\n",
       "    <tr>\n",
       "      <th>2</th>\n",
       "      <td>Heat - Edsa Shangri-La</td>\n",
       "      <td>Mandaluyong City</td>\n",
       "      <td>Edsa Shangri-La, Ortigas, Mandaluyong City</td>\n",
       "      <td>Seafood, Asian, Filipino, Indian</td>\n",
       "      <td>4000</td>\n",
       "      <td>Yes</td>\n",
       "      <td>No</td>\n",
       "      <td>4</td>\n",
       "      <td>4.4</td>\n",
       "      <td>270</td>\n",
       "    </tr>\n",
       "    <tr>\n",
       "      <th>3</th>\n",
       "      <td>Ooma</td>\n",
       "      <td>Mandaluyong City</td>\n",
       "      <td>SM Megamall, Ortigas, Mandaluyong City</td>\n",
       "      <td>Japanese, Sushi</td>\n",
       "      <td>1500</td>\n",
       "      <td>No</td>\n",
       "      <td>No</td>\n",
       "      <td>4</td>\n",
       "      <td>4.9</td>\n",
       "      <td>365</td>\n",
       "    </tr>\n",
       "    <tr>\n",
       "      <th>4</th>\n",
       "      <td>Sambo Kojin</td>\n",
       "      <td>Mandaluyong City</td>\n",
       "      <td>SM Megamall, Ortigas, Mandaluyong City</td>\n",
       "      <td>Japanese, Korean</td>\n",
       "      <td>1500</td>\n",
       "      <td>Yes</td>\n",
       "      <td>No</td>\n",
       "      <td>4</td>\n",
       "      <td>4.8</td>\n",
       "      <td>229</td>\n",
       "    </tr>\n",
       "  </tbody>\n",
       "</table>\n",
       "</div>"
      ],
      "text/plain": [
       "          Restaurant Name              City  \\\n",
       "0        Le Petit Souffle       Makati City   \n",
       "1        Izakaya Kikufuji       Makati City   \n",
       "2  Heat - Edsa Shangri-La  Mandaluyong City   \n",
       "3                    Ooma  Mandaluyong City   \n",
       "4             Sambo Kojin  Mandaluyong City   \n",
       "\n",
       "                                     Locality  \\\n",
       "0   Century City Mall, Poblacion, Makati City   \n",
       "1  Little Tokyo, Legaspi Village, Makati City   \n",
       "2  Edsa Shangri-La, Ortigas, Mandaluyong City   \n",
       "3      SM Megamall, Ortigas, Mandaluyong City   \n",
       "4      SM Megamall, Ortigas, Mandaluyong City   \n",
       "\n",
       "                           Cuisines  Average Cost for two Has Table booking  \\\n",
       "0        French, Japanese, Desserts                  1100               Yes   \n",
       "1                          Japanese                  1200               Yes   \n",
       "2  Seafood, Asian, Filipino, Indian                  4000               Yes   \n",
       "3                   Japanese, Sushi                  1500                No   \n",
       "4                  Japanese, Korean                  1500               Yes   \n",
       "\n",
       "  Has Online delivery  Price range  Aggregate rating  Votes  \n",
       "0                  No            3               4.8    314  \n",
       "1                  No            3               4.5    591  \n",
       "2                  No            4               4.4    270  \n",
       "3                  No            4               4.9    365  \n",
       "4                  No            4               4.8    229  "
      ]
     },
     "execution_count": 16,
     "metadata": {},
     "output_type": "execute_result"
    }
   ],
   "source": [
    "selected_features =  ['Restaurant Name', 'City', 'Locality', 'Cuisines', 'Average Cost for two', \n",
    "                     'Has Table booking', 'Has Online delivery', 'Price range', \n",
    "                     'Aggregate rating', 'Votes']\n",
    "cdf = df[selected_features]\n",
    "cdf.head()"
   ]
  },
  {
   "cell_type": "markdown",
   "id": "b445f40f-d71b-4b08-acf0-4ad8b2028ad2",
   "metadata": {},
   "source": [
    "### Encode the categorical Variables "
   ]
  },
  {
   "cell_type": "code",
   "execution_count": 17,
   "id": "8c4daeb1-99c7-4fa4-a939-7b86353d5ee4",
   "metadata": {},
   "outputs": [],
   "source": [
    "categorical_features =  ['City', 'Locality', 'Cuisines', 'Has Table booking', 'Has Online delivery', 'Price range']\n",
    "encoder = OneHotEncoder(handle_unknown = 'ignore')\n",
    "encoded_features = encoder.fit_transform(cdf[categorical_features]).toarray()"
   ]
  },
  {
   "cell_type": "markdown",
   "id": "9d30ef6b-4e8b-4f47-bdcf-1901e14c8e5f",
   "metadata": {},
   "source": [
    "###  Merge encoded features back into the dataset"
   ]
  },
  {
   "cell_type": "code",
   "execution_count": 18,
   "id": "9f80184c-66a8-43cd-bdab-6024312b5b5a",
   "metadata": {},
   "outputs": [],
   "source": [
    "encoded_df = pd.DataFrame(encoded_features, columns=encoder.get_feature_names_out(categorical_features))\n",
    "cdf = pd.concat([cdf, encoded_df], axis=1).drop(categorical_features, axis=1)"
   ]
  },
  {
   "cell_type": "markdown",
   "id": "69a6ee88-2c8e-4ee5-b36b-e51bd4aa245e",
   "metadata": {},
   "source": [
    "### Implementing Content Based filtering "
   ]
  },
  {
   "cell_type": "code",
   "execution_count": 19,
   "id": "184ae39b-ae91-4716-bf3a-ce9012ca3834",
   "metadata": {
    "scrolled": true
   },
   "outputs": [],
   "source": [
    "def recommend_restaurants(user_preferences):\n",
    "    # Convert user preferences to DataFrame with the same feature names\n",
    "    user_input_df = pd.DataFrame([user_preferences], columns=categorical_features)\n",
    "    \n",
    "    # Transform user input using the fitted encoder\n",
    "    user_vector = encoder.transform(user_input_df).toarray()\n",
    "    \n",
    "    # Calculate similarity\n",
    "    similarity_scores = cosine_similarity(user_vector, encoded_features)\n",
    "    \n",
    "    # Recommend top 5 restaurants\n",
    "    top_indices = np.argsort(similarity_scores[0])[-5:][::-1]\n",
    "    recommended_restaurants = df.iloc[top_indices][['Restaurant Name', 'Aggregate rating']]\n",
    "    \n",
    "    # Sort the recommended restaurants by their aggregate rating in descending order\n",
    "    recommended_restaurants = recommended_restaurants.sort_values(by='Aggregate rating', ascending=False)\n",
    "\n",
    "    if len(recommended_restaurants) == 0:\n",
    "        raise ValueError(\"No recommendations found for the given preferences.\")\n",
    "    \n",
    "    # Convert recommendations to a list of dictionaries\n",
    "    recommendations_list = recommended_restaurants.to_dict(orient='records')\n",
    "    \n",
    "    return recommendations_list\n",
    "\n",
    "# Function to handle the process\n",
    "def handle_recommendations(user_preferences):\n",
    "    try:\n",
    "        recommendations = recommend_restaurants(user_preferences)\n",
    "        return {\n",
    "            \"status\": \"success\",\n",
    "            \"data\": recommendations\n",
    "        }\n",
    "    except ValueError as ve:\n",
    "        return {\n",
    "            \"status\": \"error\",\n",
    "            \"message\": str(ve)\n",
    "        }\n",
    "    except Exception as e:\n",
    "        return {\n",
    "            \"status\": \"error\",\n",
    "            \"message\": f\"An error occurred: {e}\"\n",
    "        }"
   ]
  },
  {
   "cell_type": "code",
   "execution_count": 12,
   "id": "b584ddf6-95cb-45e5-9fa3-9c0e6518054f",
   "metadata": {},
   "outputs": [],
   "source": [
    "#Pickeling the Model\n",
    "import pickle\n",
    "model_components = {\n",
    "    'encoder': encoder,\n",
    "    'encoded_features': encoded_features\n",
    "}\n",
    "pickle.dump(model_components,open(\"Recommendation.pkl\",\"wb\"))"
   ]
  },
  {
   "cell_type": "code",
   "execution_count": null,
   "id": "793e97fd-6887-4868-9dc7-597d9e7b2bfb",
   "metadata": {},
   "outputs": [],
   "source": []
  }
 ],
 "metadata": {
  "kernelspec": {
   "display_name": "Python 3 (ipykernel)",
   "language": "python",
   "name": "python3"
  },
  "language_info": {
   "codemirror_mode": {
    "name": "ipython",
    "version": 3
   },
   "file_extension": ".py",
   "mimetype": "text/x-python",
   "name": "python",
   "nbconvert_exporter": "python",
   "pygments_lexer": "ipython3",
   "version": "3.12.3"
  }
 },
 "nbformat": 4,
 "nbformat_minor": 5
}
